{
 "cells": [
  {
   "cell_type": "code",
   "execution_count": 1,
   "metadata": {
    "collapsed": false
   },
   "outputs": [],
   "source": [
    "import itertools as it\n",
    "\n",
    "import mbuild as mb\n",
    "from mbuild.compound import Compound\n",
    "from mbuild.coordinate_transform import force_overlap\n",
    "from mbuild.utils.validation import assert_port_exists\n",
    "from mbuild import clone\n",
    "from copy import deepcopy\n",
    "from visualize import visualize"
   ]
  },
  {
   "cell_type": "code",
   "execution_count": 2,
   "metadata": {
    "collapsed": true
   },
   "outputs": [],
   "source": [
    "__all__ = ['Pores']"
   ]
  },
  {
   "cell_type": "code",
   "execution_count": 42,
   "metadata": {
    "collapsed": false
   },
   "outputs": [],
   "source": [
    "class Pores(mb.Compound):\n",
    "    \"\"\"A general slit pore recipe\n",
    "    \n",
    "    Parameters\n",
    "    ----------\n",
    "    x_pop: int\n",
    "        population in x-direction\n",
    "    y_pop: int\n",
    "        population in y-direction\n",
    "    z_pop: int\n",
    "        population in z-direction\n",
    "    pore_size: int\n",
    "        size of pore (nm)\n",
    "    solvents: array\n",
    "        solvents that fill the system\n",
    "    \n",
    "    Attributes\n",
    "    ----------\n",
    "    \n",
    "    Notes: Match graphene y-dimension with box x-dimension\n",
    "    \"\"\"\n",
    "    def __init__(self, replicate, dimension, solvent):\n",
    "        super(Pores,self).__init__()\n",
    "        self.replicate = replicate\n",
    "        self.dimension = dimension\n",
    "        if all(x <= 0 for x in dimension):\n",
    "            raise ValueError('Dimension of box must be greater than 0')\n",
    "        self.name = 'C'\n",
    "        carbon_locations = [[0,0,0], [2/3,1/3,0]]\n",
    "        basis = {self.name: carbon_locations}\n",
    "        graphene_lattice = mb.Lattice(lattice_spacing=[.2456,.2456,.335], angles=[90,90,120], lattice_points=basis)\n",
    "        carbon = mb.Compound(name=self.name)\n",
    "        graphene = graphene_lattice.populate(compound_dict={self.name: carbon},\n",
    "                                         x=replicate[0],y=replicate[1],z=replicate[2])\n",
    "        print(graphene.periodicity)\n",
    "        for particle in graphene.particles():\n",
    "            if particle.xyz[0][0] < 0:\n",
    "                particle.xyz[0][0] += graphene.periodicity[0]\n",
    "        graphene.periodicity *= 13/15\n",
    "        \n",
    "        graphene.periodicity += self.dimension \n",
    "        print(graphene.periodicity)\n",
    "        #graphene.periodicity[0] = self.dimension[2]\n",
    "        #position_mult = self.replicate[2] - 2\n",
    "        \n",
    "        bottom_sheet = mb.clone(graphene)\n",
    "        #bottom_sheet.translate([0, -(self.dimension[1])-(.335*4), 0]) \n",
    "        bottom_sheet.spin(1.5708,[1,0,0])\n",
    "        top_sheet = mb.clone(graphene)\n",
    "        box = mb.Box([21,7,7])\n",
    "        #top_sheet.translate([0, (self.dimension[1]/2), 0]) \n",
    "        #top_sheet.translate([2, graphene.periodicity[1]/2-(.335*4), graphene.periodicity[2]/2]) \n",
    "        top_sheet.spin(1.5708,[1,0,0])\n",
    "        system = mb.Compound()\n",
    "        system.from_parmed(structure=bottom_sheet.to_parmed(box=deepcopy(box))+top_sheet.to_parmed(box=deepcopy(box)))\n",
    "        #save system here\n",
    "        self.solvent = solvent\n",
    "        fill = mb.load(self.solvent)\n",
    "        print(self.dimension)\n",
    "        \n",
    "        system = mb.solvate(system, fill, 10000, box=box, overlap=0.2)\n",
    "        #system = mb.solvate(system, fill, 10000, box=mb.Box(graphene.periodicity), overlap=0.2)\n",
    "        # Look at mb.Box(self.dimension)\n",
    "        \n",
    "        #system.periodicity = self.dimension\n",
    "        self.add(system)"
   ]
  },
  {
   "cell_type": "code",
   "execution_count": 43,
   "metadata": {
    "collapsed": false
   },
   "outputs": [
    {
     "name": "stderr",
     "output_type": "stream",
     "text": [
      "/Users/raymatsumoto/mbuild/mbuild/lattice.py:527: UserWarning: Periodicity of non-rectangular lattices are not valid with default boxes. Only rectangular lattices are valid at this time.\n",
      "  warn('Periodicity of non-rectangular lattices are not valid with '\n"
     ]
    },
    {
     "name": "stdout",
     "output_type": "stream",
     "text": [
      "[ 9.824   7.6136  1.005 ]\n",
      "[ 29.51413333  13.59845333   7.871     ]\n"
     ]
    },
    {
     "name": "stderr",
     "output_type": "stream",
     "text": [
      "/Users/raymatsumoto/anaconda2/envs/hackathon/lib/python3.5/site-packages/pandas/io/parsers.py:1961: FutureWarning: split() requires a non-empty pattern match.\n",
      "  yield pat.split(line.strip())\n",
      "/Users/raymatsumoto/anaconda2/envs/hackathon/lib/python3.5/site-packages/pandas/io/parsers.py:1963: FutureWarning: split() requires a non-empty pattern match.\n",
      "  yield pat.split(line.strip())\n"
     ]
    },
    {
     "name": "stdout",
     "output_type": "stream",
     "text": [
      "[21, 7, 7]\n"
     ]
    }
   ],
   "source": [
    "test=Pores(replicate=[40,31,3], dimension=[21,7,7], solvent='/Users/raymatsumoto/science/il_solvent_local/file_gen/mol2/tip3p.mol2')\n",
    "test.save('system_test.gro',overwrite=overwrite=True)"
   ]
  },
  {
   "cell_type": "code",
   "execution_count": null,
   "metadata": {
    "collapsed": true
   },
   "outputs": [],
   "source": []
  },
  {
   "cell_type": "code",
   "execution_count": null,
   "metadata": {
    "collapsed": true
   },
   "outputs": [],
   "source": []
  }
 ],
 "metadata": {
  "kernelspec": {
   "display_name": "Python 3",
   "language": "python",
   "name": "python3"
  },
  "language_info": {
   "codemirror_mode": {
    "name": "ipython",
    "version": 3
   },
   "file_extension": ".py",
   "mimetype": "text/x-python",
   "name": "python",
   "nbconvert_exporter": "python",
   "pygments_lexer": "ipython3",
   "version": "3.5.2"
  }
 },
 "nbformat": 4,
 "nbformat_minor": 2
}
