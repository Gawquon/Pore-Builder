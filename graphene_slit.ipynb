{
 "cells": [
  {
   "cell_type": "code",
   "execution_count": 1,
   "metadata": {
    "collapsed": false
   },
   "outputs": [],
   "source": [
    "import itertools as it\n",
    "\n",
    "import mbuild as mb\n",
    "import numpy as np\n",
    "from mbuild.compound import Compound\n",
    "from mbuild.coordinate_transform import force_overlap\n",
    "from mbuild.utils.validation import assert_port_exists\n",
    "from mbuild import clone\n",
    "from foyer import Forcefield\n",
    "from copy import deepcopy"
   ]
  },
  {
   "cell_type": "code",
   "execution_count": 2,
   "metadata": {
    "collapsed": true
   },
   "outputs": [],
   "source": [
    "__all__ = ['Pores']"
   ]
  },
  {
   "cell_type": "code",
   "execution_count": 81,
   "metadata": {
    "collapsed": false
   },
   "outputs": [],
   "source": [
    "class Pores(mb.Compound):\n",
    "    \"\"\"A general slit pore recipe\n",
    "    \n",
    "    Parameters\n",
    "    ----------\n",
    "    x_sheet: int\n",
    "        dimensions of graphene sheet in x-direction [nm]\n",
    "    y_sheet: int\n",
    "        dimensions of graphene sheet in y-direction [nm]\n",
    "    sheets: int\n",
    "        number of graphene sheets, default=3\n",
    "    pore_width: width of slit pore [nm]\n",
    "    x_bulk: length of bulk region in x-direction [nm]\n",
    "    solvent: optional\n",
    "        compound to solvate the system with.  If not provided, system will not be solvated\n",
    "    Attributes\n",
    "    ----------\n",
    "    \n",
    "    Notes: Match graphene y-dimension with box x-dimension\n",
    "    \"\"\"\n",
    "    def __init__(self,x_sheet, y_sheet, sheets, pore_width, x_bulk, solvent):\n",
    "        super(Pores,self).__init__()\n",
    "        self.x_sheet = x_sheet\n",
    "        self.y_sheet = y_sheet\n",
    "        self.sheets = sheets\n",
    "        self.pore_width = pore_width\n",
    "        self.x_bulk = x_bulk\n",
    "        \n",
    "        # Do some math to figure out how much to replicate graphene cell. TODO: Figure out if rounding is necessary\n",
    "        replicate = [(self.x_sheet/0.246), (self.y_sheet/0.246)*(15/13)] # multiply by (15/13) to account for later periodicity change\n",
    "        if all(x <= 0 for x in [x_sheet, y_sheet]):\n",
    "            raise ValueError('Dimension of graphene sheet must be greater than zero')\n",
    "        self.name = 'C'\n",
    "        carbon_locations = [[0,0,0], [2/3,1/3,0]]\n",
    "        basis = {self.name: carbon_locations}\n",
    "        graphene_lattice = mb.Lattice(lattice_spacing=[.2456,.2456,.335], angles=[90,90,120], lattice_points=basis)\n",
    "        carbon = mb.Compound(name=self.name)\n",
    "        graphene = graphene_lattice.populate(compound_dict={self.name: carbon},\n",
    "                                         x=replicate[0],y=replicate[1],z=self.sheets)\n",
    "        print(graphene.periodicity)\n",
    "        for particle in graphene.particles():\n",
    "            if particle.xyz[0][0] < 0:\n",
    "                particle.xyz[0][0] += graphene.periodicity[0]\n",
    "        self.graphene_dims = graphene.periodicity\n",
    "        self.graphene_dims[1] *= 13/15\n",
    "        print(self.graphene_dims)\n",
    "        bottom_sheet = mb.clone(graphene)\n",
    "        bottom_sheet.translate([0, self.pore_width+self.graphene_dims[2]-.335, 0]) \n",
    "        #changed graphene.periodicity to self.graphene_dims\n",
    "        bottom_sheet.spin(1.5708,[1,0,0])\n",
    "        top_sheet = mb.clone(graphene)\n",
    "        top_sheet.spin(1.5708,[1,0,0])\n",
    "        system = mb.Compound()\n",
    "        system.from_parmed(structure=bottom_sheet.to_parmed() + top_sheet.to_parmed())\n",
    "        if solvent:\n",
    "            self._solvate(solvent=solvent, n_compounds=2000, system=system)\n",
    "            #5083 molecules\n",
    "        else:\n",
    "            self.add(system)\n",
    "    def _solvate(self, system, solvent, n_compounds):\n",
    "        \"\"\"Solvate slit pore box\n",
    "        Parameters\n",
    "        ----------\n",
    "        solvent: dictionary\n",
    "            Compound and residue name to load into system {'name': compound}\n",
    "        n_compounds: int\n",
    "            Number of compounds to solvate with\n",
    "        \"\"\"\n",
    "        for key, value in solvent.items():\n",
    "            fluid = mb.load(value)\n",
    "            fluid.name = key\n",
    "        print(fluid.name)\n",
    "        print(fluid)\n",
    "        box = [(self.x_bulk*2)+self.graphene_dims[0]+1,\n",
    "                            self.pore_width+(2*(self.graphene_dims[2]-.335))+1,\n",
    "                            self.graphene_dims[1]]\n",
    "        print(box)\n",
    "        system = mb.solvate(system, fluid, n_compounds, box=box, overlap=0.2)\n",
    "        system.periodicity = box\n",
    "        self.add(system)"
   ]
  },
  {
   "cell_type": "code",
   "execution_count": 82,
   "metadata": {
    "collapsed": false
   },
   "outputs": [
    {
     "name": "stderr",
     "output_type": "stream",
     "text": [
      "/Users/raymatsumoto/mbuild/mbuild/lattice.py:527: UserWarning: Periodicity of non-rectangular lattices are not valid with default boxes. Only rectangular lattices are valid at this time.\n",
      "  warn('Periodicity of non-rectangular lattices are not valid with '\n"
     ]
    },
    {
     "name": "stdout",
     "output_type": "stream",
     "text": [
      "[ 4.912   9.0872  1.005 ]\n",
      "[ 4.912       7.87557333  1.005     ]\n"
     ]
    },
    {
     "name": "stderr",
     "output_type": "stream",
     "text": [
      "/Users/raymatsumoto/anaconda2/envs/hackathon/lib/python3.5/site-packages/pandas/io/parsers.py:1961: FutureWarning: split() requires a non-empty pattern match.\n",
      "  yield pat.split(line.strip())\n",
      "/Users/raymatsumoto/anaconda2/envs/hackathon/lib/python3.5/site-packages/pandas/io/parsers.py:1963: FutureWarning: split() requires a non-empty pattern match.\n",
      "  yield pat.split(line.strip())\n"
     ]
    },
    {
     "name": "stdout",
     "output_type": "stream",
     "text": [
      "tip3p\n",
      "<tip3p 3 particles, non-periodic, 2 bonds, id: 5320136576>\n",
      "[15.911999999999999, 3.7400000000000002, 7.8755733333333344]\n"
     ]
    }
   ],
   "source": [
    "water = '/Users/raymatsumoto/science/il_solvent_local/file_gen/mol2/tip3p.mol2'\n",
    "test=Pores(x_sheet=5, y_sheet=8, sheets=3, pore_width=1.4, x_bulk=5,solvent={'tip3p': water})\n",
    "test.save('init.gro',overwrite=True)"
   ]
  },
  {
   "cell_type": "code",
   "execution_count": null,
   "metadata": {
    "collapsed": true
   },
   "outputs": [],
   "source": []
  },
  {
   "cell_type": "code",
   "execution_count": null,
   "metadata": {
    "collapsed": true
   },
   "outputs": [],
   "source": []
  }
 ],
 "metadata": {
  "kernelspec": {
   "display_name": "Python 3",
   "language": "python",
   "name": "python3"
  },
  "language_info": {
   "codemirror_mode": {
    "name": "ipython",
    "version": 3
   },
   "file_extension": ".py",
   "mimetype": "text/x-python",
   "name": "python",
   "nbconvert_exporter": "python",
   "pygments_lexer": "ipython3",
   "version": "3.5.2"
  }
 },
 "nbformat": 4,
 "nbformat_minor": 2
}
