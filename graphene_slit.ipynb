{
 "cells": [
  {
   "cell_type": "code",
   "execution_count": 1,
   "metadata": {
    "collapsed": false
   },
   "outputs": [],
   "source": [
    "import itertools as it\n",
    "\n",
    "import mbuild as mb\n",
    "import numpy as np\n",
    "from mbuild.compound import Compound\n",
    "from mbuild.coordinate_transform import force_overlap\n",
    "from mbuild.utils.validation import assert_port_exists\n",
    "from mbuild import clone\n",
    "from copy import deepcopy"
   ]
  },
  {
   "cell_type": "code",
   "execution_count": 2,
   "metadata": {
    "collapsed": true
   },
   "outputs": [],
   "source": [
    "__all__ = ['Pores']"
   ]
  },
  {
   "cell_type": "code",
   "execution_count": 99,
   "metadata": {
    "collapsed": false
   },
   "outputs": [],
   "source": [
    "class Pores(mb.Compound):\n",
    "    \"\"\"A general slit pore recipe\n",
    "    \n",
    "    Parameters\n",
    "    ----------\n",
    "    x_sheet: int\n",
    "        dimensions of graphene sheet in x-direction [nm]\n",
    "    y_sheet: int\n",
    "        dimensions of graphene sheet in y-direction [nm]\n",
    "    sheets: int\n",
    "        number of graphene sheets, default=3\n",
    "    pore_width: width of slit pore [nm]\n",
    "    x_bulk: length of bulk region in x-direction [nm]\n",
    "    solvent: optional\n",
    "        compound to solvate the system with.  If not provided, system will not be solvated\n",
    "    Attributes\n",
    "    ----------\n",
    "    \n",
    "    Notes: Match graphene y-dimension with box x-dimension\n",
    "    \"\"\"\n",
    "    def __init__(self,x_sheet, y_sheet, sheets, pore_width, x_bulk, solvent):\n",
    "        super(Pores,self).__init__()\n",
    "        self.x_sheet = x_sheet\n",
    "        self.y_sheet = y_sheet\n",
    "        self.sheets = sheets\n",
    "        self.pore_width = pore_width\n",
    "        self.x_bulk = x_bulk\n",
    "        \n",
    "        # Do some math to figure out how much to replicate graphene cell. TODO: Figure out if rounding is necessary\n",
    "        replicate = [(self.x_sheet/0.246), (self.y_sheet/0.246)]\n",
    "        if all(x <= 0 for x in [x_sheet, y_sheet]):\n",
    "            raise ValueError('Dimension of graphene sheet must be greater than zero')\n",
    "        self.name = 'C'\n",
    "        carbon_locations = [[0,0,0], [2/3,1/3,0]]\n",
    "        basis = {self.name: carbon_locations}\n",
    "        graphene_lattice = mb.Lattice(lattice_spacing=[.2456,.2456,.335], angles=[90,90,120], lattice_points=basis)\n",
    "        carbon = mb.Compound(name=self.name)\n",
    "        graphene = graphene_lattice.populate(compound_dict={self.name: carbon},\n",
    "                                         x=replicate[0],y=replicate[1],z=self.sheets)\n",
    "        print(graphene.periodicity)\n",
    "        for particle in graphene.particles():\n",
    "            if particle.xyz[0][0] < 0:\n",
    "                particle.xyz[0][0] += graphene.periodicity[0]\n",
    "        self.graphene_dims = graphene.periodicity\n",
    "        print(self.graphene_dims)\n",
    "        bottom_sheet = mb.clone(graphene)\n",
    "        bottom_sheet.translate([0, self.pore_width+(graphene.periodicity[2]-.335), 0]) \n",
    "        bottom_sheet.spin(1.5708,[1,0,0])\n",
    "        top_sheet = mb.clone(graphene)\n",
    "        top_sheet.spin(1.5708,[1,0,0])\n",
    "        #self.add(top_sheet)\n",
    "        #self.add(bottom_sheet)\n",
    "        system = mb.Compound()\n",
    "        system.from_parmed(structure=bottom_sheet.to_parmed() + top_sheet.to_parmed())\n",
    "        if solvent:\n",
    "            self._solvate(solvent=solvent, n_compounds=5000, system=system)\n",
    "        else:\n",
    "            self.add(system)\n",
    "    def _solvate(self, system, solvent, n_compounds, ff_file=None):\n",
    "        \"\"\"Solvate slit pore box\n",
    "        Parameters\n",
    "        ----------\n",
    "        solvent: dictionary\n",
    "            Compound and residue name to load into system {'name': compound}\n",
    "        n_compounds: int\n",
    "            Number of compounds to solvate with\n",
    "        ff_file: file, optional\n",
    "            Forcefield to load in and apply.  If not provided, atoms will be left un-typed\n",
    "        \"\"\"\n",
    "        self.solvent = solvent\n",
    "        for key, value in self.solvent.items():\n",
    "            fluid = mb.load(value)\n",
    "            fluid.name = key\n",
    "        box = [(self.x_bulk*2)+self.graphene_dims[0],self.pore_width+(2*(self.graphene_dims[2]-0.335)),self.graphene_dims[1]]\n",
    "        print(box)\n",
    "        system = mb.solvate(system, fluid, n_compounds, box=box, overlap=0.2)\n",
    "        if ff_file:\n",
    "            FF = Forcefield(ff_file)\n",
    "            self.system = FF.apply(system.to_parmed(residues=['RES', fluid.name]))\n",
    "        system.periodicity = box\n",
    "        self.add(system)"
   ]
  },
  {
   "cell_type": "code",
   "execution_count": 100,
   "metadata": {
    "collapsed": false
   },
   "outputs": [
    {
     "name": "stderr",
     "output_type": "stream",
     "text": [
      "/Users/raymatsumoto/mbuild/mbuild/lattice.py:527: UserWarning: Periodicity of non-rectangular lattices are not valid with default boxes. Only rectangular lattices are valid at this time.\n",
      "  warn('Periodicity of non-rectangular lattices are not valid with '\n"
     ]
    },
    {
     "name": "stdout",
     "output_type": "stream",
     "text": [
      "[ 7.8592  3.9296  1.34  ]\n",
      "[ 7.8592  3.9296  1.34  ]\n"
     ]
    },
    {
     "name": "stderr",
     "output_type": "stream",
     "text": [
      "/Users/raymatsumoto/anaconda2/envs/hackathon/lib/python3.5/site-packages/pandas/io/parsers.py:1961: FutureWarning: split() requires a non-empty pattern match.\n",
      "  yield pat.split(line.strip())\n",
      "/Users/raymatsumoto/anaconda2/envs/hackathon/lib/python3.5/site-packages/pandas/io/parsers.py:1963: FutureWarning: split() requires a non-empty pattern match.\n",
      "  yield pat.split(line.strip())\n"
     ]
    },
    {
     "name": "stdout",
     "output_type": "stream",
     "text": [
      "[17.859200000000001, 3.21, 3.9296000000000002]\n"
     ]
    }
   ],
   "source": [
    "water = '/Users/raymatsumoto/science/il_solvent_local/file_gen/mol2/tip3p.mol2'\n",
    "test=Pores(x_sheet=8, y_sheet=4, sheets=4, pore_width=1.2, x_bulk=5, solvent={'tip3p': water})\n",
    "test.save('system_test.gro',overwrite=True)"
   ]
  }
 ],
 "metadata": {
  "kernelspec": {
   "display_name": "Python 3",
   "language": "python",
   "name": "python3"
  },
  "language_info": {
   "codemirror_mode": {
    "name": "ipython",
    "version": 3
   },
   "file_extension": ".py",
   "mimetype": "text/x-python",
   "name": "python",
   "nbconvert_exporter": "python",
   "pygments_lexer": "ipython3",
   "version": "3.5.2"
  }
 },
 "nbformat": 4,
 "nbformat_minor": 2
}
